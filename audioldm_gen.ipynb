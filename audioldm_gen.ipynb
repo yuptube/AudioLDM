{
 "cells": [
  {
   "cell_type": "markdown",
   "metadata": {},
   "source": [
    "## Text to audio "
   ]
  },
  {
   "cell_type": "code",
   "execution_count": null,
   "metadata": {},
   "outputs": [],
   "source": [
    "import subprocess\n",
    "\n",
    "\n",
    "text_prompt = \"raining with cozy fire background \"\n",
    "\n",
    "\n",
    "\n",
    "command = [\"audioldm\", \n",
    "           \"-t\", text_prompt]\n",
    "\n",
    "subprocess.run(command, check=True)\n",
    "\n"
   ]
  },
  {
   "cell_type": "markdown",
   "metadata": {},
   "source": [
    "## audio to audio\n"
   ]
  },
  {
   "cell_type": "code",
   "execution_count": null,
   "metadata": {},
   "outputs": [],
   "source": [
    "import subprocess\n",
    "\n",
    "\n",
    "audio_file = \"trumpet.wav\"\n",
    "\n",
    "\n",
    "command = [\"audioldm\", \n",
    "           \"--file_path\", audio_file]\n",
    "\n",
    "subprocess.run(command, check=True)\n"
   ]
  },
  {
   "cell_type": "markdown",
   "metadata": {},
   "source": [
    "## Style-transfer"
   ]
  },
  {
   "cell_type": "code",
   "execution_count": null,
   "metadata": {},
   "outputs": [],
   "source": [
    "import subprocess\n",
    "\n",
    "\n",
    "audio_file = \"trumpet.wav\"\n",
    "\n",
    "# 1 means full transfer strength\n",
    "command = [\"audioldm\", \n",
    "           \"--mode\" , \"transfer\",\n",
    "           \"--file_path\", audio_file,\n",
    "           \"-t\" , \"Children Singing\",\n",
    "           \"--transfer_strength\" , \"0.5\"]\n",
    "\n",
    "subprocess.run(command, check=True)\n"
   ]
  }
 ],
 "metadata": {
  "kernelspec": {
   "display_name": "audioldm",
   "language": "python",
   "name": "python3"
  },
  "language_info": {
   "codemirror_mode": {
    "name": "ipython",
    "version": 3
   },
   "file_extension": ".py",
   "mimetype": "text/x-python",
   "name": "python",
   "nbconvert_exporter": "python",
   "pygments_lexer": "ipython3",
   "version": "3.8.20"
  }
 },
 "nbformat": 4,
 "nbformat_minor": 2
}
